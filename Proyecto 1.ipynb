{
 "cells": [
  {
   "metadata": {},
   "cell_type": "markdown",
   "source": [
    "url = (\"https://www.gallito.com.uy/inmuebles/salto\") \n",
    "headers = {'User-Agent': 'Mozilla/5.0'}\n",
    "response = requests.get(url,headers=headers) \n",
    "soup = BeautifulSoup(response.content, 'html.parser')\n",
    "propiedades = soup.find_all('div',class_='contenedor-info')\n",
    "result=[]\n",
    "for propiedad in propiedades: \n",
    "    tipo = propiedad.find('p')\n",
    "    precio = propiedad.find('strong')\n",
    "    result.append({\"tipo\": tipo.text, \"precio\": precio.text})\n",
    "    \n",
    "    \n",
    "result"
   ],
   "id": "708379986d6133f5"
  },
  {
   "cell_type": "code",
   "id": "initial_id",
   "metadata": {
    "collapsed": true,
    "ExecuteTime": {
     "end_time": "2024-10-22T22:46:35.166063Z",
     "start_time": "2024-10-22T22:46:34.289483Z"
    }
   },
   "source": [
    "from bs4 import BeautifulSoup \n",
    "import json\n",
    "import requests \n",
    "\n",
    "results=[]\n",
    "ciudades = [\"maldonado\", \"salto\", \"montevideo\"]\n",
    "for ciudad in ciudades:\n",
    "    url = f\"https://www.gallito.com.uy/inmuebles/{ciudad}\" \n",
    "    \n",
    "    headers = {'User-Agent': 'Mozilla/5.0'}\n",
    "    response = requests.get(url,headers=headers) \n",
    "    soup = BeautifulSoup(response.content, 'html.parser')\n",
    "    propiedades = soup.find_all('div',class_='contenedor-info')\n",
    "    \n",
    "    result=[]\n",
    "    for propiedad in propiedades: \n",
    "        tipo = propiedad.find('p')\n",
    "        precio = propiedad.find('strong')\n",
    "        result.append({\"tipo\": tipo.text, \"precio\": precio.text})\n",
    "    results.append({\"ciudad\":ciudad, \"results\":result})\n",
    "\n"
   ],
   "outputs": [],
   "execution_count": 14
  },
  {
   "metadata": {
    "ExecuteTime": {
     "end_time": "2024-10-22T22:46:35.179158Z",
     "start_time": "2024-10-22T22:46:35.172018Z"
    }
   },
   "cell_type": "code",
   "source": [
    "with open(\"propiedades.json\",\"w\") as out_file: \n",
    "    json.dump(results, out_file, indent=4) "
   ],
   "id": "13eb84b9046c273",
   "outputs": [],
   "execution_count": 15
  }
 ],
 "metadata": {
  "kernelspec": {
   "display_name": "Python 3",
   "language": "python",
   "name": "python3"
  },
  "language_info": {
   "codemirror_mode": {
    "name": "ipython",
    "version": 2
   },
   "file_extension": ".py",
   "mimetype": "text/x-python",
   "name": "python",
   "nbconvert_exporter": "python",
   "pygments_lexer": "ipython2",
   "version": "2.7.6"
  }
 },
 "nbformat": 4,
 "nbformat_minor": 5
}
